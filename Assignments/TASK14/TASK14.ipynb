{
 "cells": [
  {
   "cell_type": "code",
   "execution_count": 26,
   "metadata": {},
   "outputs": [],
   "source": [
    "import pandas as pd\n",
    "import numpy as np\n",
    "from math import radians, sin, cos, acos\n",
    "import statistics \n",
    "import calendar\n",
    "import datetime, time \n",
    "import numba\n",
    "import matplotlib.pyplot as plt\n",
    "import seaborn as sns"
   ]
  },
  {
   "cell_type": "code",
   "execution_count": 24,
   "metadata": {},
   "outputs": [],
   "source": [
    "#1. Write a Python program to calculate the distance between two points using latitude and longitude."
   ]
  },
  {
   "cell_type": "code",
   "execution_count": null,
   "metadata": {},
   "outputs": [],
   "source": [
    "#a. Ask user for Input of a latitude and longitude\n",
    "#b. Calculate the distance between the two"
   ]
  },
  {
   "cell_type": "code",
   "execution_count": 27,
   "metadata": {},
   "outputs": [
    {
     "name": "stdout",
     "output_type": "stream",
     "text": [
      "Input coordinates of two points:\n",
      "Enter starting latitude: 3\n",
      "Enter Ending latitude: 4\n",
      "Enter starting longitude: 5\n",
      "Enter ending longitude: 5\n",
      "Distance is 111.20km.\n"
     ]
    }
   ],
   "source": [
    "print(\"Input coordinates of two points:\")\n",
    "startlat = radians(float(input(\"Enter starting latitude: \")))\n",
    "endlat = radians(float(input(\"Enter Ending latitude: \")))\n",
    "startlon = radians(float(input(\"Enter starting longitude: \")))\n",
    "endlon = radians(float(input(\"Enter ending longitude: \")))\n",
    "\n",
    "dist = 6371.01 * acos(sin(startlat)*sin(endlat) + cos(startlat)*cos(endlat)*cos(startlon - endlon))\n",
    "print(\"Distance is %.2fkm.\" % dist)"
   ]
  },
  {
   "cell_type": "code",
   "execution_count": null,
   "metadata": {},
   "outputs": [],
   "source": [
    "#2. Write a Python program to calculate the standard deviation of the following data. \n",
    "#a. data = [4, 2, 5, 8, 6]"
   ]
  },
  {
   "cell_type": "code",
   "execution_count": 28,
   "metadata": {},
   "outputs": [
    {
     "name": "stdout",
     "output_type": "stream",
     "text": [
      "Standard Deviation of sample is 2.23606797749979 \n"
     ]
    }
   ],
   "source": [
    "import statistics \n",
    "  \n",
    "data = [4, 2, 5, 8, 6]  \n",
    "\n",
    "print(\"Standard Deviation of sample is % s \" \n",
    "                % (statistics.stdev(data))) "
   ]
  },
  {
   "cell_type": "code",
   "execution_count": null,
   "metadata": {},
   "outputs": [],
   "source": [
    "#3. Create a dataframe of ten rows, four columns with random values. Write a Pandas program to highlight the negative numbers red and positive numbers black."
   ]
  },
  {
   "cell_type": "code",
   "execution_count": 29,
   "metadata": {},
   "outputs": [
    {
     "name": "stdout",
     "output_type": "stream",
     "text": [
      "Initial results:\n",
      "      A         B         C         D         E\n",
      "0   1.0  1.329212 -0.770033 -0.316280 -0.990810\n",
      "1   2.0 -1.070816 -1.438713  0.564417  0.295722\n",
      "2   3.0 -1.626404  0.219565  0.678805  1.889273\n",
      "3   4.0  0.961538  0.104011 -0.481165  0.850229\n",
      "4   5.0  1.453425  1.057737  0.165562  0.515018\n",
      "5   6.0 -1.336936  0.562861  1.392855 -0.063328\n",
      "6   7.0  0.121668  1.207603 -0.002040  1.627796\n",
      "7   8.0  0.354493  1.037528 -0.385684  0.519818\n",
      "8   9.0  1.686583 -1.325963  1.428984 -2.089354\n",
      "9  10.0 -0.129820  0.631523 -0.586538  0.290720\n",
      "\n",
      "Negatives red and positives black:\n"
     ]
    },
    {
     "data": {
      "text/html": [
       "<style  type=\"text/css\" >\n",
       "    #T_fc00b448_b189_11ea_87eb_606720780b32row0_col0 {\n",
       "            color:  black;\n",
       "        }    #T_fc00b448_b189_11ea_87eb_606720780b32row0_col1 {\n",
       "            color:  black;\n",
       "        }    #T_fc00b448_b189_11ea_87eb_606720780b32row0_col2 {\n",
       "            color:  red;\n",
       "        }    #T_fc00b448_b189_11ea_87eb_606720780b32row0_col3 {\n",
       "            color:  red;\n",
       "        }    #T_fc00b448_b189_11ea_87eb_606720780b32row0_col4 {\n",
       "            color:  red;\n",
       "        }    #T_fc00b448_b189_11ea_87eb_606720780b32row1_col0 {\n",
       "            color:  black;\n",
       "        }    #T_fc00b448_b189_11ea_87eb_606720780b32row1_col1 {\n",
       "            color:  red;\n",
       "        }    #T_fc00b448_b189_11ea_87eb_606720780b32row1_col2 {\n",
       "            color:  red;\n",
       "        }    #T_fc00b448_b189_11ea_87eb_606720780b32row1_col3 {\n",
       "            color:  black;\n",
       "        }    #T_fc00b448_b189_11ea_87eb_606720780b32row1_col4 {\n",
       "            color:  black;\n",
       "        }    #T_fc00b448_b189_11ea_87eb_606720780b32row2_col0 {\n",
       "            color:  black;\n",
       "        }    #T_fc00b448_b189_11ea_87eb_606720780b32row2_col1 {\n",
       "            color:  red;\n",
       "        }    #T_fc00b448_b189_11ea_87eb_606720780b32row2_col2 {\n",
       "            color:  black;\n",
       "        }    #T_fc00b448_b189_11ea_87eb_606720780b32row2_col3 {\n",
       "            color:  black;\n",
       "        }    #T_fc00b448_b189_11ea_87eb_606720780b32row2_col4 {\n",
       "            color:  black;\n",
       "        }    #T_fc00b448_b189_11ea_87eb_606720780b32row3_col0 {\n",
       "            color:  black;\n",
       "        }    #T_fc00b448_b189_11ea_87eb_606720780b32row3_col1 {\n",
       "            color:  black;\n",
       "        }    #T_fc00b448_b189_11ea_87eb_606720780b32row3_col2 {\n",
       "            color:  black;\n",
       "        }    #T_fc00b448_b189_11ea_87eb_606720780b32row3_col3 {\n",
       "            color:  red;\n",
       "        }    #T_fc00b448_b189_11ea_87eb_606720780b32row3_col4 {\n",
       "            color:  black;\n",
       "        }    #T_fc00b448_b189_11ea_87eb_606720780b32row4_col0 {\n",
       "            color:  black;\n",
       "        }    #T_fc00b448_b189_11ea_87eb_606720780b32row4_col1 {\n",
       "            color:  black;\n",
       "        }    #T_fc00b448_b189_11ea_87eb_606720780b32row4_col2 {\n",
       "            color:  black;\n",
       "        }    #T_fc00b448_b189_11ea_87eb_606720780b32row4_col3 {\n",
       "            color:  black;\n",
       "        }    #T_fc00b448_b189_11ea_87eb_606720780b32row4_col4 {\n",
       "            color:  black;\n",
       "        }    #T_fc00b448_b189_11ea_87eb_606720780b32row5_col0 {\n",
       "            color:  black;\n",
       "        }    #T_fc00b448_b189_11ea_87eb_606720780b32row5_col1 {\n",
       "            color:  red;\n",
       "        }    #T_fc00b448_b189_11ea_87eb_606720780b32row5_col2 {\n",
       "            color:  black;\n",
       "        }    #T_fc00b448_b189_11ea_87eb_606720780b32row5_col3 {\n",
       "            color:  black;\n",
       "        }    #T_fc00b448_b189_11ea_87eb_606720780b32row5_col4 {\n",
       "            color:  red;\n",
       "        }    #T_fc00b448_b189_11ea_87eb_606720780b32row6_col0 {\n",
       "            color:  black;\n",
       "        }    #T_fc00b448_b189_11ea_87eb_606720780b32row6_col1 {\n",
       "            color:  black;\n",
       "        }    #T_fc00b448_b189_11ea_87eb_606720780b32row6_col2 {\n",
       "            color:  black;\n",
       "        }    #T_fc00b448_b189_11ea_87eb_606720780b32row6_col3 {\n",
       "            color:  red;\n",
       "        }    #T_fc00b448_b189_11ea_87eb_606720780b32row6_col4 {\n",
       "            color:  black;\n",
       "        }    #T_fc00b448_b189_11ea_87eb_606720780b32row7_col0 {\n",
       "            color:  black;\n",
       "        }    #T_fc00b448_b189_11ea_87eb_606720780b32row7_col1 {\n",
       "            color:  black;\n",
       "        }    #T_fc00b448_b189_11ea_87eb_606720780b32row7_col2 {\n",
       "            color:  black;\n",
       "        }    #T_fc00b448_b189_11ea_87eb_606720780b32row7_col3 {\n",
       "            color:  red;\n",
       "        }    #T_fc00b448_b189_11ea_87eb_606720780b32row7_col4 {\n",
       "            color:  black;\n",
       "        }    #T_fc00b448_b189_11ea_87eb_606720780b32row8_col0 {\n",
       "            color:  black;\n",
       "        }    #T_fc00b448_b189_11ea_87eb_606720780b32row8_col1 {\n",
       "            color:  black;\n",
       "        }    #T_fc00b448_b189_11ea_87eb_606720780b32row8_col2 {\n",
       "            color:  red;\n",
       "        }    #T_fc00b448_b189_11ea_87eb_606720780b32row8_col3 {\n",
       "            color:  black;\n",
       "        }    #T_fc00b448_b189_11ea_87eb_606720780b32row8_col4 {\n",
       "            color:  red;\n",
       "        }    #T_fc00b448_b189_11ea_87eb_606720780b32row9_col0 {\n",
       "            color:  black;\n",
       "        }    #T_fc00b448_b189_11ea_87eb_606720780b32row9_col1 {\n",
       "            color:  red;\n",
       "        }    #T_fc00b448_b189_11ea_87eb_606720780b32row9_col2 {\n",
       "            color:  black;\n",
       "        }    #T_fc00b448_b189_11ea_87eb_606720780b32row9_col3 {\n",
       "            color:  red;\n",
       "        }    #T_fc00b448_b189_11ea_87eb_606720780b32row9_col4 {\n",
       "            color:  black;\n",
       "        }</style><table id=\"T_fc00b448_b189_11ea_87eb_606720780b32\" ><thead>    <tr>        <th class=\"blank level0\" ></th>        <th class=\"col_heading level0 col0\" >A</th>        <th class=\"col_heading level0 col1\" >B</th>        <th class=\"col_heading level0 col2\" >C</th>        <th class=\"col_heading level0 col3\" >D</th>        <th class=\"col_heading level0 col4\" >E</th>    </tr></thead><tbody>\n",
       "                <tr>\n",
       "                        <th id=\"T_fc00b448_b189_11ea_87eb_606720780b32level0_row0\" class=\"row_heading level0 row0\" >0</th>\n",
       "                        <td id=\"T_fc00b448_b189_11ea_87eb_606720780b32row0_col0\" class=\"data row0 col0\" >1.000000</td>\n",
       "                        <td id=\"T_fc00b448_b189_11ea_87eb_606720780b32row0_col1\" class=\"data row0 col1\" >1.329212</td>\n",
       "                        <td id=\"T_fc00b448_b189_11ea_87eb_606720780b32row0_col2\" class=\"data row0 col2\" >-0.770033</td>\n",
       "                        <td id=\"T_fc00b448_b189_11ea_87eb_606720780b32row0_col3\" class=\"data row0 col3\" >-0.316280</td>\n",
       "                        <td id=\"T_fc00b448_b189_11ea_87eb_606720780b32row0_col4\" class=\"data row0 col4\" >-0.990810</td>\n",
       "            </tr>\n",
       "            <tr>\n",
       "                        <th id=\"T_fc00b448_b189_11ea_87eb_606720780b32level0_row1\" class=\"row_heading level0 row1\" >1</th>\n",
       "                        <td id=\"T_fc00b448_b189_11ea_87eb_606720780b32row1_col0\" class=\"data row1 col0\" >2.000000</td>\n",
       "                        <td id=\"T_fc00b448_b189_11ea_87eb_606720780b32row1_col1\" class=\"data row1 col1\" >-1.070816</td>\n",
       "                        <td id=\"T_fc00b448_b189_11ea_87eb_606720780b32row1_col2\" class=\"data row1 col2\" >-1.438713</td>\n",
       "                        <td id=\"T_fc00b448_b189_11ea_87eb_606720780b32row1_col3\" class=\"data row1 col3\" >0.564417</td>\n",
       "                        <td id=\"T_fc00b448_b189_11ea_87eb_606720780b32row1_col4\" class=\"data row1 col4\" >0.295722</td>\n",
       "            </tr>\n",
       "            <tr>\n",
       "                        <th id=\"T_fc00b448_b189_11ea_87eb_606720780b32level0_row2\" class=\"row_heading level0 row2\" >2</th>\n",
       "                        <td id=\"T_fc00b448_b189_11ea_87eb_606720780b32row2_col0\" class=\"data row2 col0\" >3.000000</td>\n",
       "                        <td id=\"T_fc00b448_b189_11ea_87eb_606720780b32row2_col1\" class=\"data row2 col1\" >-1.626404</td>\n",
       "                        <td id=\"T_fc00b448_b189_11ea_87eb_606720780b32row2_col2\" class=\"data row2 col2\" >0.219565</td>\n",
       "                        <td id=\"T_fc00b448_b189_11ea_87eb_606720780b32row2_col3\" class=\"data row2 col3\" >0.678805</td>\n",
       "                        <td id=\"T_fc00b448_b189_11ea_87eb_606720780b32row2_col4\" class=\"data row2 col4\" >1.889273</td>\n",
       "            </tr>\n",
       "            <tr>\n",
       "                        <th id=\"T_fc00b448_b189_11ea_87eb_606720780b32level0_row3\" class=\"row_heading level0 row3\" >3</th>\n",
       "                        <td id=\"T_fc00b448_b189_11ea_87eb_606720780b32row3_col0\" class=\"data row3 col0\" >4.000000</td>\n",
       "                        <td id=\"T_fc00b448_b189_11ea_87eb_606720780b32row3_col1\" class=\"data row3 col1\" >0.961538</td>\n",
       "                        <td id=\"T_fc00b448_b189_11ea_87eb_606720780b32row3_col2\" class=\"data row3 col2\" >0.104011</td>\n",
       "                        <td id=\"T_fc00b448_b189_11ea_87eb_606720780b32row3_col3\" class=\"data row3 col3\" >-0.481165</td>\n",
       "                        <td id=\"T_fc00b448_b189_11ea_87eb_606720780b32row3_col4\" class=\"data row3 col4\" >0.850229</td>\n",
       "            </tr>\n",
       "            <tr>\n",
       "                        <th id=\"T_fc00b448_b189_11ea_87eb_606720780b32level0_row4\" class=\"row_heading level0 row4\" >4</th>\n",
       "                        <td id=\"T_fc00b448_b189_11ea_87eb_606720780b32row4_col0\" class=\"data row4 col0\" >5.000000</td>\n",
       "                        <td id=\"T_fc00b448_b189_11ea_87eb_606720780b32row4_col1\" class=\"data row4 col1\" >1.453425</td>\n",
       "                        <td id=\"T_fc00b448_b189_11ea_87eb_606720780b32row4_col2\" class=\"data row4 col2\" >1.057737</td>\n",
       "                        <td id=\"T_fc00b448_b189_11ea_87eb_606720780b32row4_col3\" class=\"data row4 col3\" >0.165562</td>\n",
       "                        <td id=\"T_fc00b448_b189_11ea_87eb_606720780b32row4_col4\" class=\"data row4 col4\" >0.515018</td>\n",
       "            </tr>\n",
       "            <tr>\n",
       "                        <th id=\"T_fc00b448_b189_11ea_87eb_606720780b32level0_row5\" class=\"row_heading level0 row5\" >5</th>\n",
       "                        <td id=\"T_fc00b448_b189_11ea_87eb_606720780b32row5_col0\" class=\"data row5 col0\" >6.000000</td>\n",
       "                        <td id=\"T_fc00b448_b189_11ea_87eb_606720780b32row5_col1\" class=\"data row5 col1\" >-1.336936</td>\n",
       "                        <td id=\"T_fc00b448_b189_11ea_87eb_606720780b32row5_col2\" class=\"data row5 col2\" >0.562861</td>\n",
       "                        <td id=\"T_fc00b448_b189_11ea_87eb_606720780b32row5_col3\" class=\"data row5 col3\" >1.392855</td>\n",
       "                        <td id=\"T_fc00b448_b189_11ea_87eb_606720780b32row5_col4\" class=\"data row5 col4\" >-0.063328</td>\n",
       "            </tr>\n",
       "            <tr>\n",
       "                        <th id=\"T_fc00b448_b189_11ea_87eb_606720780b32level0_row6\" class=\"row_heading level0 row6\" >6</th>\n",
       "                        <td id=\"T_fc00b448_b189_11ea_87eb_606720780b32row6_col0\" class=\"data row6 col0\" >7.000000</td>\n",
       "                        <td id=\"T_fc00b448_b189_11ea_87eb_606720780b32row6_col1\" class=\"data row6 col1\" >0.121668</td>\n",
       "                        <td id=\"T_fc00b448_b189_11ea_87eb_606720780b32row6_col2\" class=\"data row6 col2\" >1.207603</td>\n",
       "                        <td id=\"T_fc00b448_b189_11ea_87eb_606720780b32row6_col3\" class=\"data row6 col3\" >-0.002040</td>\n",
       "                        <td id=\"T_fc00b448_b189_11ea_87eb_606720780b32row6_col4\" class=\"data row6 col4\" >1.627796</td>\n",
       "            </tr>\n",
       "            <tr>\n",
       "                        <th id=\"T_fc00b448_b189_11ea_87eb_606720780b32level0_row7\" class=\"row_heading level0 row7\" >7</th>\n",
       "                        <td id=\"T_fc00b448_b189_11ea_87eb_606720780b32row7_col0\" class=\"data row7 col0\" >8.000000</td>\n",
       "                        <td id=\"T_fc00b448_b189_11ea_87eb_606720780b32row7_col1\" class=\"data row7 col1\" >0.354493</td>\n",
       "                        <td id=\"T_fc00b448_b189_11ea_87eb_606720780b32row7_col2\" class=\"data row7 col2\" >1.037528</td>\n",
       "                        <td id=\"T_fc00b448_b189_11ea_87eb_606720780b32row7_col3\" class=\"data row7 col3\" >-0.385684</td>\n",
       "                        <td id=\"T_fc00b448_b189_11ea_87eb_606720780b32row7_col4\" class=\"data row7 col4\" >0.519818</td>\n",
       "            </tr>\n",
       "            <tr>\n",
       "                        <th id=\"T_fc00b448_b189_11ea_87eb_606720780b32level0_row8\" class=\"row_heading level0 row8\" >8</th>\n",
       "                        <td id=\"T_fc00b448_b189_11ea_87eb_606720780b32row8_col0\" class=\"data row8 col0\" >9.000000</td>\n",
       "                        <td id=\"T_fc00b448_b189_11ea_87eb_606720780b32row8_col1\" class=\"data row8 col1\" >1.686583</td>\n",
       "                        <td id=\"T_fc00b448_b189_11ea_87eb_606720780b32row8_col2\" class=\"data row8 col2\" >-1.325963</td>\n",
       "                        <td id=\"T_fc00b448_b189_11ea_87eb_606720780b32row8_col3\" class=\"data row8 col3\" >1.428984</td>\n",
       "                        <td id=\"T_fc00b448_b189_11ea_87eb_606720780b32row8_col4\" class=\"data row8 col4\" >-2.089354</td>\n",
       "            </tr>\n",
       "            <tr>\n",
       "                        <th id=\"T_fc00b448_b189_11ea_87eb_606720780b32level0_row9\" class=\"row_heading level0 row9\" >9</th>\n",
       "                        <td id=\"T_fc00b448_b189_11ea_87eb_606720780b32row9_col0\" class=\"data row9 col0\" >10.000000</td>\n",
       "                        <td id=\"T_fc00b448_b189_11ea_87eb_606720780b32row9_col1\" class=\"data row9 col1\" >-0.129820</td>\n",
       "                        <td id=\"T_fc00b448_b189_11ea_87eb_606720780b32row9_col2\" class=\"data row9 col2\" >0.631523</td>\n",
       "                        <td id=\"T_fc00b448_b189_11ea_87eb_606720780b32row9_col3\" class=\"data row9 col3\" >-0.586538</td>\n",
       "                        <td id=\"T_fc00b448_b189_11ea_87eb_606720780b32row9_col4\" class=\"data row9 col4\" >0.290720</td>\n",
       "            </tr>\n",
       "    </tbody></table>"
      ],
      "text/plain": [
       "<pandas.io.formats.style.Styler at 0x1cd808999c8>"
      ]
     },
     "execution_count": 29,
     "metadata": {},
     "output_type": "execute_result"
    }
   ],
   "source": [
    "np.random.seed(24)\n",
    "df = pd.DataFrame({'A': np.linspace(1, 10, 10)})\n",
    "df = pd.concat([df, pd.DataFrame(np.random.randn(10, 4), columns=list('BCDE'))],\n",
    "               axis=1)\n",
    "print('Initial results:')\n",
    "print(df)\n",
    "def negative_red(val):\n",
    "    color = 'red' if val < 0 else 'black'\n",
    "    return 'color: %s' % color\n",
    "print('\\n' 'Negatives red and positives black:')\n",
    "df.style.applymap(negative_red)"
   ]
  },
  {
   "cell_type": "code",
   "execution_count": null,
   "metadata": {},
   "outputs": [],
   "source": [
    "#4. Write a Pandas program to get the current date, oldest date and number of days between Current date and oldest date of Ufo dataset."
   ]
  },
  {
   "cell_type": "code",
   "execution_count": null,
   "metadata": {},
   "outputs": [],
   "source": [
    "df[['date','time']] = df['Date_time'].str.split(expand=True)\n",
    "df['Date_time'] = (pd.to_datetime(df.pop('date'), format='%m/%d/%Y') + pd.to_timedelta(df.pop('time') + ':00'))\n",
    "#print(df.head())"
   ]
  },
  {
   "cell_type": "code",
   "execution_count": 60,
   "metadata": {},
   "outputs": [
    {
     "name": "stdout",
     "output_type": "stream",
     "text": [
      "Original Dataframe:\n"
     ]
    }
   ],
   "source": [
    "print(\"Original Dataframe:\")"
   ]
  },
  {
   "cell_type": "code",
   "execution_count": 55,
   "metadata": {},
   "outputs": [
    {
     "name": "stdout",
     "output_type": "stream",
     "text": [
      "\n",
      "Current date of Ufo dataset:\n",
      "2014-05-08 18:45:00\n"
     ]
    }
   ],
   "source": [
    "print(\"\\nCurrent date of Ufo dataset:\")\n",
    "print(df.Date_time.max())"
   ]
  },
  {
   "cell_type": "code",
   "execution_count": 56,
   "metadata": {},
   "outputs": [
    {
     "name": "stdout",
     "output_type": "stream",
     "text": [
      "\n",
      "Oldest date of Ufo dataset:\n",
      "1906-11-11 00:00:00\n"
     ]
    }
   ],
   "source": [
    "print(\"\\nOldest date of Ufo dataset:\")\n",
    "print(df.Date_time.min())"
   ]
  },
  {
   "cell_type": "code",
   "execution_count": 57,
   "metadata": {},
   "outputs": [
    {
     "name": "stdout",
     "output_type": "stream",
     "text": [
      "\n",
      "Number of days between Current date and oldest date of Ufo dataset:\n",
      "39260\n"
     ]
    }
   ],
   "source": [
    "print(\"\\nNumber of days between Current date and oldest date of Ufo dataset:\")\n",
    "print((df.Date_time.max() - df.Date_time.min()).days)"
   ]
  },
  {
   "cell_type": "code",
   "execution_count": null,
   "metadata": {},
   "outputs": [],
   "source": [
    "#5. Write a Pandas program to extract year, month, day, hour, minute, second and weekday from unidentified flying object (UFO) reporting date"
   ]
  },
  {
   "cell_type": "code",
   "execution_count": 64,
   "metadata": {},
   "outputs": [
    {
     "name": "stdout",
     "output_type": "stream",
     "text": [
      "\n",
      "Year:\n",
      "0    1949\n",
      "1    1949\n",
      "2    1955\n",
      "3    1956\n",
      "4    1960\n",
      "Name: Date_time, dtype: int64\n",
      "\n",
      "Month:\n",
      "0    10\n",
      "1    10\n",
      "2    10\n",
      "3    10\n",
      "4    10\n",
      "Name: Date_time, dtype: int64\n",
      "\n",
      "Day:\n",
      "0    10\n",
      "1    10\n",
      "2    10\n",
      "3    10\n",
      "4    10\n",
      "Name: Date_time, dtype: int64\n",
      "\n",
      "Hour:\n",
      "0    20\n",
      "1    21\n",
      "2    17\n",
      "3    21\n",
      "4    20\n",
      "Name: Date_time, dtype: int64\n",
      "\n",
      "Minute:\n",
      "0    30\n",
      "1     0\n",
      "2     0\n",
      "3     0\n",
      "4     0\n",
      "Name: Date_time, dtype: int64\n",
      "\n",
      "Second:\n",
      "0    0\n",
      "1    0\n",
      "2    0\n",
      "3    0\n",
      "4    0\n",
      "Name: Date_time, dtype: int64\n",
      "\n",
      "Weekday:\n",
      "0           Monday\n",
      "1           Monday\n",
      "2           Monday\n",
      "3        Wednesday\n",
      "4           Monday\n",
      "           ...    \n",
      "80327       Monday\n",
      "80328       Monday\n",
      "80329       Monday\n",
      "80330       Monday\n",
      "80331       Monday\n",
      "Name: Date_time, Length: 80332, dtype: object\n"
     ]
    }
   ],
   "source": [
    "print(\"\\nYear:\")\n",
    "print(df.Date_time.dt.year.head())\n",
    "print(\"\\nMonth:\")\n",
    "print(df.Date_time.dt.month.head())\n",
    "print(\"\\nDay:\")\n",
    "print(df.Date_time.dt.day.head())\n",
    "print(\"\\nHour:\")\n",
    "print(df.Date_time.dt.hour.head())\n",
    "print(\"\\nMinute:\")\n",
    "print(df.Date_time.dt.minute.head())\n",
    "print(\"\\nSecond:\")\n",
    "print(df.Date_time.dt.second.head())\n",
    "print(\"\\nWeekday:\")\n",
    "print(df.Date_time.dt.day_name())"
   ]
  },
  {
   "cell_type": "code",
   "execution_count": null,
   "metadata": {},
   "outputs": [],
   "source": [
    "#6. Write a Pandas program to check the empty values of UFO (unidentified flying object) Dataframe."
   ]
  },
  {
   "cell_type": "code",
   "execution_count": 72,
   "metadata": {},
   "outputs": [
    {
     "data": {
      "text/plain": [
       "Date_time                             0\n",
       "city                                  0\n",
       "state/province                     5797\n",
       "country                            9670\n",
       "UFO_shape                          1932\n",
       "length_of_encounter_seconds           0\n",
       "described_duration_of_encounter       0\n",
       "description                          15\n",
       "date_documented                       0\n",
       "latitude                              0\n",
       "dtype: int64"
      ]
     },
     "execution_count": 72,
     "metadata": {},
     "output_type": "execute_result"
    }
   ],
   "source": [
    "E=df.isnull().sum()\n",
    "E[:10]"
   ]
  },
  {
   "cell_type": "code",
   "execution_count": null,
   "metadata": {},
   "outputs": [],
   "source": []
  },
  {
   "cell_type": "code",
   "execution_count": null,
   "metadata": {},
   "outputs": [],
   "source": []
  }
 ],
 "metadata": {
  "kernelspec": {
   "display_name": "Python 3",
   "language": "python",
   "name": "python3"
  },
  "language_info": {
   "codemirror_mode": {
    "name": "ipython",
    "version": 3
   },
   "file_extension": ".py",
   "mimetype": "text/x-python",
   "name": "python",
   "nbconvert_exporter": "python",
   "pygments_lexer": "ipython3",
   "version": "3.7.6"
  }
 },
 "nbformat": 4,
 "nbformat_minor": 4
}
